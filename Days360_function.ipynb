{
 "cells": [
  {
   "cell_type": "code",
   "execution_count": 12,
   "id": "da42a78a-ffe1-488e-8122-511d7215c9ac",
   "metadata": {},
   "outputs": [],
   "source": [
    "import pandas as pd\n",
    "import numpy as np"
   ]
  },
  {
   "cell_type": "code",
   "execution_count": 13,
   "id": "4138547f-c4e6-48fa-ad0f-a434a50179db",
   "metadata": {},
   "outputs": [],
   "source": [
    "def days360(start_date, end_date, method_eu=False):\n",
    "    start_day = start_date.day\n",
    "    start_month = start_date.month\n",
    "    start_year = start_date.year\n",
    "    end_day = end_date.day\n",
    "    end_month = end_date.month\n",
    "    end_year = end_date.year\n",
    "\n",
    "    if (\n",
    "            start_day == 31 or\n",
    "            (\n",
    "                    method_eu is False and\n",
    "                    start_month == 2 and (\n",
    "                            start_day == 29 or (\n",
    "                            start_day == 28 and\n",
    "                            start_date.is_leap_year is False\n",
    "                    )\n",
    "                    )\n",
    "            )\n",
    "    ):\n",
    "        start_day = 30\n",
    "\n",
    "    if end_day == 31:\n",
    "        if method_eu is False and start_day != 30:\n",
    "            end_day = 1\n",
    "\n",
    "            if end_month == 12:\n",
    "                end_year += 1\n",
    "                end_month = 1\n",
    "            else:\n",
    "                end_month += 1\n",
    "        else:\n",
    "            end_day = 30\n",
    "\n",
    "    return (\n",
    "            end_day + end_month * 30 + end_year * 360 -\n",
    "            start_day - start_month * 30 - start_year * 360)"
   ]
  },
  {
   "cell_type": "code",
   "execution_count": 14,
   "id": "27a5d5fe-1c34-48a5-a2cf-e156c9f698d4",
   "metadata": {},
   "outputs": [
    {
     "data": {
      "text/html": [
       "<div>\n",
       "<style scoped>\n",
       "    .dataframe tbody tr th:only-of-type {\n",
       "        vertical-align: middle;\n",
       "    }\n",
       "\n",
       "    .dataframe tbody tr th {\n",
       "        vertical-align: top;\n",
       "    }\n",
       "\n",
       "    .dataframe thead th {\n",
       "        text-align: right;\n",
       "    }\n",
       "</style>\n",
       "<table border=\"1\" class=\"dataframe\">\n",
       "  <thead>\n",
       "    <tr style=\"text-align: right;\">\n",
       "      <th></th>\n",
       "      <th>Date1</th>\n",
       "      <th>Date2</th>\n",
       "    </tr>\n",
       "  </thead>\n",
       "  <tbody>\n",
       "    <tr>\n",
       "      <th>0</th>\n",
       "      <td>10/1/2021</td>\n",
       "      <td>10/1/2021</td>\n",
       "    </tr>\n",
       "    <tr>\n",
       "      <th>1</th>\n",
       "      <td>11/15/2021</td>\n",
       "      <td>10/31/2021</td>\n",
       "    </tr>\n",
       "    <tr>\n",
       "      <th>2</th>\n",
       "      <td>12/15/2021</td>\n",
       "      <td>11/30/2021</td>\n",
       "    </tr>\n",
       "    <tr>\n",
       "      <th>3</th>\n",
       "      <td>1/15/2022</td>\n",
       "      <td>12/31/2021</td>\n",
       "    </tr>\n",
       "    <tr>\n",
       "      <th>4</th>\n",
       "      <td>2/15/2022</td>\n",
       "      <td>1/31/2022</td>\n",
       "    </tr>\n",
       "  </tbody>\n",
       "</table>\n",
       "</div>"
      ],
      "text/plain": [
       "        Date1       Date2\n",
       "0   10/1/2021   10/1/2021\n",
       "1  11/15/2021  10/31/2021\n",
       "2  12/15/2021  11/30/2021\n",
       "3   1/15/2022  12/31/2021\n",
       "4   2/15/2022   1/31/2022"
      ]
     },
     "execution_count": 14,
     "metadata": {},
     "output_type": "execute_result"
    }
   ],
   "source": [
    "df=pd.read_csv(\"C:/dates_sample.csv\")\n",
    "df.head(5)"
   ]
  },
  {
   "cell_type": "code",
   "execution_count": 15,
   "id": "1048307b-79dc-4bb9-b25a-c8a650126c8c",
   "metadata": {},
   "outputs": [
    {
     "data": {
      "text/plain": [
       "0       0\n",
       "1      15\n",
       "2      15\n",
       "3      15\n",
       "4      15\n",
       "       ..\n",
       "316    15\n",
       "317    15\n",
       "318    15\n",
       "319    15\n",
       "320    15\n",
       "Name: Date_Diff, Length: 321, dtype: int64"
      ]
     },
     "execution_count": 15,
     "metadata": {},
     "output_type": "execute_result"
    }
   ],
   "source": [
    "df['Date1'] = pd.to_datetime(df['Date1'])\n",
    "df['Date2'] = pd.to_datetime(df['Date2'])\n",
    "df['Date_Diff'] = df.apply(\n",
    "            lambda x: days360(x['Date2'], x['Date1']),\n",
    "            axis=1)\n",
    "df['Date_Diff']"
   ]
  }
 ],
 "metadata": {
  "kernelspec": {
   "display_name": "Python 3",
   "language": "python",
   "name": "python3"
  },
  "language_info": {
   "codemirror_mode": {
    "name": "ipython",
    "version": 3
   },
   "file_extension": ".py",
   "mimetype": "text/x-python",
   "name": "python",
   "nbconvert_exporter": "python",
   "pygments_lexer": "ipython3",
   "version": "3.8.8"
  }
 },
 "nbformat": 4,
 "nbformat_minor": 5
}
