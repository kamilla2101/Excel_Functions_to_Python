{
 "cells": [
  {
   "cell_type": "code",
   "execution_count": 2,
   "id": "8355a38d-b1f9-4c16-a8ad-b6183f92e8e8",
   "metadata": {},
   "outputs": [],
   "source": [
    "import pandas as pd\n",
    "import numpy as np\n",
    "from datetime import timedelta\n",
    "from datetime import datetime"
   ]
  },
  {
   "cell_type": "code",
   "execution_count": 9,
   "id": "9d715aae-c436-4adc-b514-55e594917c9a",
   "metadata": {},
   "outputs": [],
   "source": [
    "def xnpv(rate, cashflows):\n",
    "\n",
    "    chron_order = sorted(cashflows, key=lambda x: x[0])\n",
    "    t0 = chron_order[0][0]  # t0 is the date of the first cash flow\n",
    "    return sum([cf / (1 + rate) ** ((t - t0).days / 365.0) for (t, cf) in chron_order])\n",
    "\n",
    "def xirr(transactions):\n",
    "    years = [(ta[0] - transactions[0][0]).days / 365.0 for ta in transactions]\n",
    "    residual = 1\n",
    "    step = 0.05\n",
    "    guess = 0.1\n",
    "    epsilon = 0.0001\n",
    "    limit = 10000\n",
    "    while abs(residual) > epsilon and limit > 0:\n",
    "        limit -= 1\n",
    "        residual = 0.0\n",
    "        for i, ta in enumerate(transactions):\n",
    "            try:\n",
    "                residual += ta[1] / pow(guess, years[i])\n",
    "            except ZeroDivisionError as e:\n",
    "                return 0\n",
    "        if abs(residual) > epsilon:\n",
    "            if residual > 0:\n",
    "                guess += step\n",
    "            else:\n",
    "                guess -= step\n",
    "                step /= 2.0\n",
    "    return guess - 1"
   ]
  },
  {
   "cell_type": "code",
   "execution_count": 4,
   "id": "62e553a8-a824-4e04-a3e8-981551c8e650",
   "metadata": {},
   "outputs": [
    {
     "data": {
      "text/html": [
       "<div>\n",
       "<style scoped>\n",
       "    .dataframe tbody tr th:only-of-type {\n",
       "        vertical-align: middle;\n",
       "    }\n",
       "\n",
       "    .dataframe tbody tr th {\n",
       "        vertical-align: top;\n",
       "    }\n",
       "\n",
       "    .dataframe thead th {\n",
       "        text-align: right;\n",
       "    }\n",
       "</style>\n",
       "<table border=\"1\" class=\"dataframe\">\n",
       "  <thead>\n",
       "    <tr style=\"text-align: right;\">\n",
       "      <th></th>\n",
       "      <th>security</th>\n",
       "      <th>date</th>\n",
       "      <th>Cash_Flows</th>\n",
       "    </tr>\n",
       "  </thead>\n",
       "  <tbody>\n",
       "    <tr>\n",
       "      <th>0</th>\n",
       "      <td>A</td>\n",
       "      <td>10/1/2021</td>\n",
       "      <td>-360314.736900</td>\n",
       "    </tr>\n",
       "    <tr>\n",
       "      <th>1</th>\n",
       "      <td>A</td>\n",
       "      <td>11/15/2021</td>\n",
       "      <td>7105.915202</td>\n",
       "    </tr>\n",
       "    <tr>\n",
       "      <th>2</th>\n",
       "      <td>A</td>\n",
       "      <td>12/15/2021</td>\n",
       "      <td>8199.971438</td>\n",
       "    </tr>\n",
       "    <tr>\n",
       "      <th>3</th>\n",
       "      <td>A</td>\n",
       "      <td>1/15/2022</td>\n",
       "      <td>10245.763650</td>\n",
       "    </tr>\n",
       "    <tr>\n",
       "      <th>4</th>\n",
       "      <td>A</td>\n",
       "      <td>2/15/2022</td>\n",
       "      <td>11352.041900</td>\n",
       "    </tr>\n",
       "  </tbody>\n",
       "</table>\n",
       "</div>"
      ],
      "text/plain": [
       "  security        date     Cash_Flows\n",
       "0        A   10/1/2021 -360314.736900\n",
       "1        A  11/15/2021    7105.915202\n",
       "2        A  12/15/2021    8199.971438\n",
       "3        A   1/15/2022   10245.763650\n",
       "4        A   2/15/2022   11352.041900"
      ]
     },
     "execution_count": 4,
     "metadata": {},
     "output_type": "execute_result"
    }
   ],
   "source": [
    "df=pd.read_csv(\"xnpv_xirr_sample.csv\")\n",
    "df.set_index(['security'])\n",
    "df.head(5)"
   ]
  },
  {
   "cell_type": "code",
   "execution_count": 7,
   "id": "39ece1a2-6c7f-40de-86f3-c2b80bac6e2c",
   "metadata": {},
   "outputs": [
    {
     "data": {
      "text/html": [
       "<div>\n",
       "<style scoped>\n",
       "    .dataframe tbody tr th:only-of-type {\n",
       "        vertical-align: middle;\n",
       "    }\n",
       "\n",
       "    .dataframe tbody tr th {\n",
       "        vertical-align: top;\n",
       "    }\n",
       "\n",
       "    .dataframe thead th {\n",
       "        text-align: right;\n",
       "    }\n",
       "</style>\n",
       "<table border=\"1\" class=\"dataframe\">\n",
       "  <thead>\n",
       "    <tr style=\"text-align: right;\">\n",
       "      <th></th>\n",
       "      <th>security</th>\n",
       "      <th>cashflows</th>\n",
       "    </tr>\n",
       "  </thead>\n",
       "  <tbody>\n",
       "    <tr>\n",
       "      <th>0</th>\n",
       "      <td>A</td>\n",
       "      <td>((2021-10-01 00:00:00, -360314.7369), (2021-11...</td>\n",
       "    </tr>\n",
       "    <tr>\n",
       "      <th>1</th>\n",
       "      <td>B</td>\n",
       "      <td>((2021-10-01 00:00:00, -513101.7782), (2021-11...</td>\n",
       "    </tr>\n",
       "    <tr>\n",
       "      <th>2</th>\n",
       "      <td>C</td>\n",
       "      <td>((2021-10-01 00:00:00, -217588.1772), (2021-11...</td>\n",
       "    </tr>\n",
       "  </tbody>\n",
       "</table>\n",
       "</div>"
      ],
      "text/plain": [
       "  security                                          cashflows\n",
       "0        A  ((2021-10-01 00:00:00, -360314.7369), (2021-11...\n",
       "1        B  ((2021-10-01 00:00:00, -513101.7782), (2021-11...\n",
       "2        C  ((2021-10-01 00:00:00, -217588.1772), (2021-11..."
      ]
     },
     "execution_count": 7,
     "metadata": {},
     "output_type": "execute_result"
    }
   ],
   "source": [
    "df['date'] = pd.to_datetime(df['date'])\n",
    "cf_list = df['Cash_Flows'].tolist()\n",
    "dates_list = df['date'].tolist()\n",
    "s = pd.Series(tuple(zip(dates_list, cf_list)), index=df.index)\n",
    "cf = s.groupby(df['security']).apply(tuple).reset_index(name='cashflows')\n",
    "cf.head(5)"
   ]
  },
  {
   "cell_type": "code",
   "execution_count": 11,
   "id": "6fca381e-837a-47ab-971e-afe8d36ba31b",
   "metadata": {},
   "outputs": [
    {
     "data": {
      "text/html": [
       "<div>\n",
       "<style scoped>\n",
       "    .dataframe tbody tr th:only-of-type {\n",
       "        vertical-align: middle;\n",
       "    }\n",
       "\n",
       "    .dataframe tbody tr th {\n",
       "        vertical-align: top;\n",
       "    }\n",
       "\n",
       "    .dataframe thead th {\n",
       "        text-align: right;\n",
       "    }\n",
       "</style>\n",
       "<table border=\"1\" class=\"dataframe\">\n",
       "  <thead>\n",
       "    <tr style=\"text-align: right;\">\n",
       "      <th></th>\n",
       "      <th>security</th>\n",
       "      <th>cashflows</th>\n",
       "      <th>XIRR</th>\n",
       "      <th>XNPV</th>\n",
       "    </tr>\n",
       "  </thead>\n",
       "  <tbody>\n",
       "    <tr>\n",
       "      <th>0</th>\n",
       "      <td>A</td>\n",
       "      <td>((2021-10-01 00:00:00, -360314.7369), (2021-11...</td>\n",
       "      <td>0.032151</td>\n",
       "      <td>-3533.034777</td>\n",
       "    </tr>\n",
       "    <tr>\n",
       "      <th>1</th>\n",
       "      <td>B</td>\n",
       "      <td>((2021-10-01 00:00:00, -513101.7782), (2021-11...</td>\n",
       "      <td>-0.006875</td>\n",
       "      <td>-23712.186159</td>\n",
       "    </tr>\n",
       "    <tr>\n",
       "      <th>2</th>\n",
       "      <td>C</td>\n",
       "      <td>((2021-10-01 00:00:00, -217588.1772), (2021-11...</td>\n",
       "      <td>0.002931</td>\n",
       "      <td>-17853.346198</td>\n",
       "    </tr>\n",
       "  </tbody>\n",
       "</table>\n",
       "</div>"
      ],
      "text/plain": [
       "  security                                          cashflows      XIRR  \\\n",
       "0        A  ((2021-10-01 00:00:00, -360314.7369), (2021-11...  0.032151   \n",
       "1        B  ((2021-10-01 00:00:00, -513101.7782), (2021-11... -0.006875   \n",
       "2        C  ((2021-10-01 00:00:00, -217588.1772), (2021-11...  0.002931   \n",
       "\n",
       "           XNPV  \n",
       "0  -3533.034777  \n",
       "1 -23712.186159  \n",
       "2 -17853.346198  "
      ]
     },
     "execution_count": 11,
     "metadata": {},
     "output_type": "execute_result"
    }
   ],
   "source": [
    "cf['XIRR'] = cf.apply(lambda x:xirr(x['cashflows']), axis=1)\n",
    "cf['XNPV'] = cf.apply(lambda x:xnpv(0.04, x['cashflows']), axis=1)\n",
    "cf.head(5)"
   ]
  },
  {
   "cell_type": "code",
   "execution_count": null,
   "id": "96d27736-0dfb-41f5-9828-e34af7e9a4a9",
   "metadata": {},
   "outputs": [],
   "source": []
  }
 ],
 "metadata": {
  "kernelspec": {
   "display_name": "Python 3",
   "language": "python",
   "name": "python3"
  },
  "language_info": {
   "codemirror_mode": {
    "name": "ipython",
    "version": 3
   },
   "file_extension": ".py",
   "mimetype": "text/x-python",
   "name": "python",
   "nbconvert_exporter": "python",
   "pygments_lexer": "ipython3",
   "version": "3.8.8"
  }
 },
 "nbformat": 4,
 "nbformat_minor": 5
}
